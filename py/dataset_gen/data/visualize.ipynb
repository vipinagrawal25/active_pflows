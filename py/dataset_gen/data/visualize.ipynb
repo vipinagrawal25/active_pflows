{
 "cells": [
  {
   "cell_type": "code",
   "execution_count": 1,
   "id": "de105199",
   "metadata": {},
   "outputs": [],
   "source": [
    "import numpy as np\n",
    "import matplotlib.pyplot as plt\n",
    "import glob"
   ]
  },
  {
   "cell_type": "code",
   "execution_count": 5,
   "id": "26c6cff7",
   "metadata": {},
   "outputs": [],
   "source": [
    "files = glob.glob('*.npy')\n",
    "data=np.load(files[0], allow_pickle=True)"
   ]
  },
  {
   "cell_type": "code",
   "execution_count": 8,
   "id": "26a3a988",
   "metadata": {},
   "outputs": [
    {
     "ename": "KeyError",
     "evalue": "(slice(None, None, None), 0)",
     "output_type": "error",
     "traceback": [
      "\u001b[31m---------------------------------------------------------------------------\u001b[39m",
      "\u001b[31mKeyError\u001b[39m                                  Traceback (most recent call last)",
      "\u001b[36mCell\u001b[39m\u001b[36m \u001b[39m\u001b[32mIn[8]\u001b[39m\u001b[32m, line 1\u001b[39m\n\u001b[32m----> \u001b[39m\u001b[32m1\u001b[39m plt.plot(\u001b[43mdata\u001b[49m\u001b[43m[\u001b[49m\u001b[43m:\u001b[49m\u001b[43m,\u001b[49m\u001b[32;43m0\u001b[39;49m\u001b[43m]\u001b[49m, data[:,\u001b[32m1\u001b[39m], \u001b[33m'\u001b[39m\u001b[33mo\u001b[39m\u001b[33m'\u001b[39m, markersize=\u001b[32m2\u001b[39m, color=\u001b[33m'\u001b[39m\u001b[33mblue\u001b[39m\u001b[33m'\u001b[39m, label=\u001b[33m'\u001b[39m\u001b[33mData Points\u001b[39m\u001b[33m'\u001b[39m)\n",
      "\u001b[31mKeyError\u001b[39m: (slice(None, None, None), 0)"
     ]
    }
   ],
   "source": [
    "plt.plot(data[:,0], data[:,1], 'o', markersize=2, color='blue', label='Data Points')"
   ]
  },
  {
   "cell_type": "code",
   "execution_count": 11,
   "id": "b3d54081",
   "metadata": {},
   "outputs": [
    {
     "name": "stdout",
     "output_type": "stream",
     "text": [
      "{'gamma': 0.1, 'eps': 0.1, 'v0': 0.0, 'k': 2.5, 'A': 0.05, 'beta': 7.5, 'phi': 0.5, 'dt': 0.001, 'tspace': 1, 'tf_thermalize': 10.0, 'width': Array(1.7724539, dtype=float32), 'r': 1.0, 'd': 2, 'N': 2, 'traj': array([[[ 1.0792495 ,  0.60080421],\n",
      "        [-0.17278516, -1.14144516],\n",
      "        [-0.06554502, -0.90169626],\n",
      "        [ 0.05676381, -1.94104052]],\n",
      "\n",
      "       [[ 0.5120436 ,  0.41913974],\n",
      "        [-0.44897521, -0.98847955],\n",
      "        [ 0.23545793, -1.06086707],\n",
      "        [ 0.52332407, -1.75516057]],\n",
      "\n",
      "       [[ 0.65432346,  0.62586558],\n",
      "        [-0.58545816, -0.73201001],\n",
      "        [-0.35126421, -0.90462607],\n",
      "        [ 0.61642784, -1.24444473]],\n",
      "\n",
      "       ...,\n",
      "\n",
      "       [[-0.6795882 ,  0.39378679],\n",
      "        [ 0.85562575, -1.56101763],\n",
      "        [ 0.85415477, -0.81008232],\n",
      "        [-0.24114189,  1.19387925]],\n",
      "\n",
      "       [[-1.22570574,  1.01452529],\n",
      "        [ 0.74992096,  0.91264427],\n",
      "        [ 1.20496392, -0.89657879],\n",
      "        [-0.79713213,  1.08694649]],\n",
      "\n",
      "       [[-1.31823337,  0.70463526],\n",
      "        [ 0.5162276 ,  0.46160877],\n",
      "        [ 1.06401181, -1.11706448],\n",
      "        [-1.82223749,  0.35401484]]], shape=(100001, 4, 2))}\n"
     ]
    }
   ],
   "source": [
    "print(data)"
   ]
  }
 ],
 "metadata": {
  "kernelspec": {
   "display_name": "pflows",
   "language": "python",
   "name": "python3"
  },
  "language_info": {
   "codemirror_mode": {
    "name": "ipython",
    "version": 3
   },
   "file_extension": ".py",
   "mimetype": "text/x-python",
   "name": "python",
   "nbconvert_exporter": "python",
   "pygments_lexer": "ipython3",
   "version": "3.13.2"
  }
 },
 "nbformat": 4,
 "nbformat_minor": 5
}
